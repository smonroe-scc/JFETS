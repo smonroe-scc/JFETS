{
 "cells": [
  {
   "cell_type": "code",
   "execution_count": 1,
   "metadata": {},
   "outputs": [
    {
     "name": "stdout",
     "output_type": "stream",
     "text": [
      "Author        : S Monroe\n",
      "Version       : 3.7.3 | packaged by conda-forge | (default, Mar 27 2019, 23:18:50)\n",
      "NumPy lib     : 1.16.4\n",
      "Encoding      : utf-8\n",
      "Timestamp     : 1571224747.0851128\n"
     ]
    }
   ],
   "source": [
    "from math import cos, sin, tan, acos, asin, atan, atan2, degrees, radians\n",
    "from numpy import reciprocal, pi, sqrt, angle, exp\n",
    "import numpy as np\n",
    "import time, sys\n",
    "\n",
    "#hextime=float.hex(time.time())\n",
    "\n",
    "# The foregoing is a clunky way to do this\n",
    "# Haven't spent a lot of time thinking through a more elegant solution\n",
    "\n",
    "def cosd(x):\n",
    "  return cos(radians(x))\n",
    "\n",
    "def sind(x):\n",
    "  return sin(radians(x))\n",
    "\n",
    "def tand(x):\n",
    "  return tan(radians(x))\n",
    "\n",
    "def acosd(x):\n",
    "  return degrees(acos(x))\n",
    "\n",
    "def asind(x):\n",
    "  return degrees(asin(x))\n",
    "\n",
    "def atand(x):\n",
    "  return degrees(atan(x))\n",
    "\n",
    "def atan2d(y, x):\n",
    "  return degrees(atan2(y, x))\n",
    "\n",
    "## Now define conversion functions:\n",
    "\n",
    "def P2R(radii, angles):\n",
    "    return radii * exp(1j*angles*(pi/180))\n",
    "\n",
    "def R2P(x):\n",
    "    return abs(x), angle(x, deg=True)\n",
    "\n",
    "\n",
    "print(\"Author        : S Monroe\")\n",
    "print(\"Version       :\",sys.version[0:66])\n",
    "print(\"NumPy lib     :\",np.version.version)\n",
    "print(\"Encoding      :\",sys.getdefaultencoding())\n",
    "print(\"Timestamp     :\",time.time())"
   ]
  },
  {
   "cell_type": "markdown",
   "metadata": {},
   "source": [
    "# Junction FET Biasing"
   ]
  },
  {
   "cell_type": "markdown",
   "metadata": {},
   "source": [
    "All JFET devices follow a \"square law\" relationship:<br><br>\n",
    "$$I_D=I_{DSS} \\cdot \\left ( 1-\\frac{V_{GS}}{{V_P}} \\right )^2$$"
   ]
  },
  {
   "cell_type": "markdown",
   "metadata": {},
   "source": [
    "Because of this characteristic, the JFET lends itself well to solutions with the quadratic formula,\n",
    "\n",
    "$$\\begin{array}{*{20}c} {x = \\frac{{ - b \\pm \\sqrt {b^2 - 4ac} }}{{2a}}} & {{\\rm{when}}} & {ax^2 + bx + c = 0} \\\\ \\end{array}$$"
   ]
  },
  {
   "cell_type": "markdown",
   "metadata": {},
   "source": [
    "<img src=\"Parabola_Anatomy.jpg\" alt=\"Parabola Anatomy \" width=\"400\" height=\"400\" title=\"Parabola title\">"
   ]
  },
  {
   "cell_type": "markdown",
   "metadata": {},
   "source": [
    "It is possible to solve for drain current, $I_D$ by substituting $I_D$ for $x$ ...<br>"
   ]
  },
  {
   "cell_type": "markdown",
   "metadata": {},
   "source": [
    "Depending upon the biasing scheme involved, it is possible to substitute circuit parameters for $a$, $b$, and $c$ ..."
   ]
  },
  {
   "cell_type": "markdown",
   "metadata": {},
   "source": [
    "# Self Bias"
   ]
  },
  {
   "cell_type": "markdown",
   "metadata": {},
   "source": [
    "Use the schematic shown below,"
   ]
  },
  {
   "cell_type": "markdown",
   "metadata": {},
   "source": [
    "![JFET_Self_Bias](self_bias.JPG \"Junction FET Biased using self-bias\")"
   ]
  },
  {
   "cell_type": "markdown",
   "metadata": {},
   "source": [
    "The formula $$ax^2+bx+c=0$$ contains three terms,<br><br>\n",
    "$a$: quadratic coefficient<br>\n",
    "$b$: linear coefficient<br>\n",
    "$c$: constant or free term<br>"
   ]
  },
  {
   "cell_type": "markdown",
   "metadata": {},
   "source": [
    "Since, \n",
    "$$V_{GS}=I_D \\cdot R_S$$<br>\n",
    "and,\n",
    "$$I_D=I_{DSS} \\cdot \\left ( 1-\\frac{V_{GS}}{{V_P}} \\right )^2$$<br>\n",
    "substitute\n",
    "$$I_D=I_{DSS} \\cdot \\left ( 1-\\frac{I_D \\cdot R_S}{{V_P}} \\right )^2$$\n",
    "Solve for $I_D$ ...\n",
    "$$I_D={\\frac {-b - {\\sqrt {b^{2}-4ac\\ }}}{2a}}$$"
   ]
  },
  {
   "cell_type": "markdown",
   "metadata": {},
   "source": [
    "When a JFET is biased using self-bias, as shown above, $$a=R_S^2$$ ... i.e., the square of the resistor value connected to the source.<br><br> $$b=-\\left ( 2 \\cdot \\left | V_P \\right | \\cdot R_S +  \\left ( \\frac{V_P^2}{I_{DSS}} \\right ) \\right)$$<br><br>\n",
    "$$c=V_P^2$$"
   ]
  },
  {
   "cell_type": "code",
   "execution_count": 2,
   "metadata": {},
   "outputs": [
    {
     "name": "stdout",
     "output_type": "stream",
     "text": [
      "a= 1000000.0\n",
      "b= -3675.0\n",
      "c= 3.0625\n",
      "[0.00239777 0.00127723]\n"
     ]
    }
   ],
   "source": [
    "VDD=15.\n",
    "RS=1000.\n",
    "RD=4.7E3\n",
    "RG=0.1\n",
    "IDSS=17.5E-3\n",
    "VP=-1.75\n",
    "a=RS**2\n",
    "b=-(2*abs(VP)*RS+(VP**2/IDSS))\n",
    "c=VP**2\n",
    "print(\"a=\",a)\n",
    "print(\"b=\",b)\n",
    "print(\"c=\",c)\n",
    "#\n",
    "#\n",
    "#uncomment lines for testing correspondence \n",
    "coeff = [a, b, c]\n",
    "ans=np.roots(coeff)\n",
    "print(ans)"
   ]
  },
  {
   "cell_type": "code",
   "execution_count": 3,
   "metadata": {},
   "outputs": [],
   "source": [
    "disc=(b**2-4*a*c)\n",
    "dnom=2*a\n",
    "ID=(-b-sqrt(disc))/(2*a)"
   ]
  },
  {
   "cell_type": "code",
   "execution_count": 4,
   "metadata": {},
   "outputs": [],
   "source": [
    "VDS=VDD-ID*(RS+RD)\n",
    "VS=ID*RS\n",
    "VG=0.  #self-bias only!\n",
    "VD=VDD-ID*RD"
   ]
  },
  {
   "cell_type": "code",
   "execution_count": 5,
   "metadata": {},
   "outputs": [
    {
     "name": "stdout",
     "output_type": "stream",
     "text": [
      " ID: 1.2772e-03 Amperes\n",
      " VS: 1.2772 Volts\n",
      " VG: 0.0000 Volts\n",
      " VD: 8.9970 Volts\n",
      "VDS: 7.7198 Volts\n"
     ]
    }
   ],
   "source": [
    "print(\" ID:\",'{0:.4e}'.format(ID),\"Amperes\")\n",
    "print(\" VS:\",'{0:.4f}'.format(VS),\"Volts\")\n",
    "print(\" VG:\",'{0:.4f}'.format(VG),\"Volts\")\n",
    "print(\" VD:\",'{0:.4f}'.format(VD),\"Volts\")\n",
    "print(\"VDS:\",'{0:.4f}'.format(VDS),\"Volts\")"
   ]
  },
  {
   "cell_type": "markdown",
   "metadata": {},
   "source": [
    "# Voltage Divider Bias"
   ]
  },
  {
   "cell_type": "markdown",
   "metadata": {},
   "source": [
    "Use the schematic shown below,"
   ]
  },
  {
   "cell_type": "markdown",
   "metadata": {},
   "source": [
    "![JFET_Voltage_Divider_Bias](JFET_VDB.JPG \"Junction FET Biased using voltage divider bias\")"
   ]
  },
  {
   "cell_type": "code",
   "execution_count": 6,
   "metadata": {},
   "outputs": [],
   "source": [
    "VDD=15.\n",
    "R1=220.0E3\n",
    "R2=10.0E3\n",
    "RD=4700.0\n",
    "RS=1500.0\n",
    "IDSS=20.21E-3\n",
    "VP=-1.44"
   ]
  },
  {
   "cell_type": "markdown",
   "metadata": {},
   "source": [
    "$$V_G=V_{DD} \\cdot \\frac{R_2}{R_1+R_2}$$<br><br>\n",
    "$$V_{GS}=V_{DD} \\cdot \\frac{R_2}{R_1+R_2}-I_DR_S$$<br><br>\n",
    "$$I_D={\\frac {-b - {\\sqrt {b^{2}-4ac\\ }}}{2a}}$$\n",
    "where,<br><br> $$a=R_S^2$$<br><br> $$b=-\\left [ 2\\left ( \\left | V_P \\right | +\\left | V_G \\right | \\right )R_S+\\left ( \\frac{V_P^2} {I_{DSS}} \\right ) \\right ]$$<br><br>\n",
    "$$c=\\left ( \\left | V_P \\right |+\\left | V_G \\right | \\right )^2$$"
   ]
  },
  {
   "cell_type": "code",
   "execution_count": 12,
   "metadata": {},
   "outputs": [
    {
     "name": "stdout",
     "output_type": "stream",
     "text": [
      "0.6521739130434783\n",
      "a= 2250000.0\n",
      "b= -6379.124411075016\n",
      "c= 4.377191682419658\n",
      "VG= 0.6521739130434783\n",
      "[0.00167081 0.00116436]\n"
     ]
    }
   ],
   "source": [
    "VDD=15.0\n",
    "RS=1500.0\n",
    "RD=4700.0\n",
    "R1=220.0E3\n",
    "R2=10.0E3\n",
    "IDSS=20.21E-3\n",
    "VP=-1.44\n",
    "VG=VDD*(R2/(R1+R2))\n",
    "print(VG)\n",
    "a=RS**2\n",
    "b=-(2*(abs(VP)+abs(VG))*RS+(VP**2/IDSS))\n",
    "c=(abs(VP)+abs(VG))**2\n",
    "print(\"a=\",a)\n",
    "print(\"b=\",b)\n",
    "print(\"c=\",c)\n",
    "print(\"VG=\",VG)\n",
    "#\n",
    "#\n",
    "# uncomment lines for testing correspondence \n",
    "coeff = [a, b, c]\n",
    "ans=np.roots(coeff)\n",
    "print(ans)"
   ]
  },
  {
   "cell_type": "code",
   "execution_count": 13,
   "metadata": {},
   "outputs": [],
   "source": [
    "disc=(b**2-4*a*c)\n",
    "dnom=2*a\n",
    "ID=(-b-sqrt(disc))/(2*a)"
   ]
  },
  {
   "cell_type": "code",
   "execution_count": 14,
   "metadata": {},
   "outputs": [],
   "source": [
    "VGS=(VDD*(R2/(R1+R2)))-ID*RS\n",
    "VD=VDD-(ID*RD)\n",
    "VS=ID*RS\n",
    "VDS=VDD-ID*(RD+RS)"
   ]
  },
  {
   "cell_type": "code",
   "execution_count": 15,
   "metadata": {},
   "outputs": [
    {
     "name": "stdout",
     "output_type": "stream",
     "text": [
      " ID: 1.1644e-03 Amperes\n",
      " VS: 1.7465 Volts\n",
      " VG: 0.6522 Volts\n",
      " VD: 9.5275 Volts\n",
      "VDS: 7.7810 Volts\n",
      "VGS: -1.0944 Volts\n"
     ]
    }
   ],
   "source": [
    "print(\" ID:\",'{0:.4e}'.format(ID),\"Amperes\")\n",
    "print(\" VS:\",'{0:.4f}'.format(VS),\"Volts\")\n",
    "print(\" VG:\",'{0:.4f}'.format(VG),\"Volts\")\n",
    "print(\" VD:\",'{0:.4f}'.format(VD),\"Volts\")\n",
    "print(\"VDS:\",'{0:.4f}'.format(VDS),\"Volts\")\n",
    "print(\"VGS:\",'{0:.4f}'.format(VGS),\"Volts\")"
   ]
  },
  {
   "cell_type": "markdown",
   "metadata": {},
   "source": [
    "When $V_{GS}=0$,<br>"
   ]
  },
  {
   "cell_type": "code",
   "execution_count": 16,
   "metadata": {},
   "outputs": [
    {
     "name": "stdout",
     "output_type": "stream",
     "text": [
      " ID: 4.3478e-04 Amperes when VGS=0\n"
     ]
    }
   ],
   "source": [
    "ID=VG/RS\n",
    "print(\" ID:\",'{0:.4e}'.format(ID),\"Amperes when VGS=0\")"
   ]
  },
  {
   "cell_type": "code",
   "execution_count": 7,
   "metadata": {},
   "outputs": [
    {
     "name": "stdout",
     "output_type": "stream",
     "text": [
      "a= 1000000.0\n",
      "b= -3030.4340845070424\n",
      "c= 2.079364\n",
      "[0.00198053 0.0010499 ]\n"
     ]
    }
   ],
   "source": [
    "import numpy as np\n",
    "VDD=15.\n",
    "RS=1000.0\n",
    "RD=4.7E3\n",
    "RG=0.0\n",
    "IDSS=14.2E-3\n",
    "VP=-1.442\n",
    "a=RS**2\n",
    "b=-(2*abs(VP)*RS+(VP**2/IDSS))\n",
    "c=VP**2\n",
    "print(\"a=\",a)\n",
    "print(\"b=\",b)\n",
    "print(\"c=\",c)\n",
    "#\n",
    "#\n",
    "#uncomment lines for testing correspondence \n",
    "coeff = [a, b, c]\n",
    "ans=np.roots(coeff)\n",
    "print(ans)"
   ]
  },
  {
   "cell_type": "code",
   "execution_count": null,
   "metadata": {},
   "outputs": [],
   "source": []
  }
 ],
 "metadata": {
  "kernelspec": {
   "display_name": "Python 3 (ipykernel)",
   "language": "python",
   "name": "python3"
  },
  "language_info": {
   "codemirror_mode": {
    "name": "ipython",
    "version": 3
   },
   "file_extension": ".py",
   "mimetype": "text/x-python",
   "name": "python",
   "nbconvert_exporter": "python",
   "pygments_lexer": "ipython3",
   "version": "3.11.4"
  }
 },
 "nbformat": 4,
 "nbformat_minor": 2
}
